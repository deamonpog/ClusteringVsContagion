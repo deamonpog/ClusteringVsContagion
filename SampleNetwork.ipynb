{
 "cells": [
  {
   "cell_type": "code",
   "execution_count": null,
   "id": "8189efb4-0f08-4bf1-a9ef-4571755d44e1",
   "metadata": {},
   "outputs": [],
   "source": [
    "import pandas as pd\n",
    "import numpy as np\n",
    "import networkx as nx\n",
    "import json\n",
    "import glob\n",
    "import multiprocessing\n",
    "import matplotlib.pyplot as plt\n",
    "import os"
   ]
  },
  {
   "cell_type": "code",
   "execution_count": null,
   "id": "15d55116-4fe2-477e-8cca-4691298191d7",
   "metadata": {},
   "outputs": [],
   "source": [
    "from mult_func import get_neighbors, sample_network, pick_ego_network"
   ]
  },
  {
   "cell_type": "code",
   "execution_count": null,
   "id": "29daa861-4c06-463c-9310-06a93d7ee464",
   "metadata": {},
   "outputs": [],
   "source": [
    "data_sources = glob.glob(\"./Data/*\")\n",
    "data_sources"
   ]
  },
  {
   "cell_type": "code",
   "execution_count": null,
   "id": "8b02a161-ba95-40a6-8807-209457bceb4a",
   "metadata": {},
   "outputs": [],
   "source": [
    "ds_to_files = {os.path.basename(data_src): glob.glob(os.path.join(data_src, \"*edges*.csv\")) for data_src in data_sources}\n",
    "ds_to_files"
   ]
  },
  {
   "cell_type": "code",
   "execution_count": null,
   "id": "12ae8ad4-d7b1-4b9f-934d-ca87ad3f898f",
   "metadata": {},
   "outputs": [],
   "source": [
    "if not os.path.exists(\"./outputs\"):\n",
    "    os.makedirs(\"./outputs\")"
   ]
  },
  {
   "cell_type": "code",
   "execution_count": null,
   "id": "8041f5b2-ccdf-4187-bac9-a599f50c7749",
   "metadata": {},
   "outputs": [],
   "source": [
    "np.random.seed(123)"
   ]
  },
  {
   "cell_type": "code",
   "execution_count": null,
   "id": "67c4ed40-50cd-4d8a-8c00-f1a29f39f6fa",
   "metadata": {},
   "outputs": [],
   "source": [
    "def read_network_edges(in_source_file):\n",
    "    df = pd.read_csv(in_source_file)\n",
    "    df.rename(columns={df.columns[0]: \"Source\", df.columns[1]: \"Target\"}, inplace=True)\n",
    "    num_edges = df.shape[0]\n",
    "    num_nodes = len(set(df[\"Source\"].unique()).union(df[\"Target\"].unique()))\n",
    "    if np.max(df.max()) == num_nodes - 1:\n",
    "        print(f\"Nodes indexed 0 to {num_nodes}\")\n",
    "    else:\n",
    "        print(\"ERROR: Node index is incompatible\")\n",
    "        raise Exception(\"ERROR: Node index is incompatible\")\n",
    "    return df, num_nodes, num_edges"
   ]
  },
  {
   "cell_type": "code",
   "execution_count": null,
   "id": "44f21958-23d5-42e1-930c-45d95d9d2ec3",
   "metadata": {},
   "outputs": [],
   "source": [
    "def generate_samples(in_edges_df, in_num_nodes, in_num_networks, in_sampled_net_size):\n",
    "    param_list = ((r, in_edges_df, in_sampled_net_size) for r in np.random.choice(in_num_nodes, size=in_num_networks, replace=False))\n",
    "    \n",
    "    with multiprocessing.Pool(multiprocessing.cpu_count() - 1) as P:\n",
    "        net_list = P.starmap(sample_network, param_list)\n",
    "        \n",
    "    net_list = pd.DataFrame(net_list, columns=[\"root\",\"cc_mean\",\"cc_std\", \"nodes\", \"G\"])\n",
    "    net_list.index.name = \"idxOld\"\n",
    "    \n",
    "    return net_list"
   ]
  },
  {
   "cell_type": "code",
   "execution_count": null,
   "id": "51d1ac43-e63d-4867-8cc7-81a89a44cbcd",
   "metadata": {},
   "outputs": [],
   "source": [
    "def check_isomorphism(in_net_list):\n",
    "    similar_graphs = {}\n",
    "    skip_graphs = set()\n",
    "    for idxA in range(in_net_list.shape[0]):\n",
    "        graphA = in_net_list.iloc[idxA][\"G\"]\n",
    "        for idxB in range(idxA + 1, in_net_list.shape[0]):\n",
    "            if idxB in skip_graphs:\n",
    "                continue\n",
    "            graphB = in_net_list.iloc[idxB][\"G\"]\n",
    "            if nx.faster_could_be_isomorphic(graphA, graphB):\n",
    "                print(\"Degree Sequences are equal: \", idxA, idxB)\n",
    "                if nx.fast_could_be_isomorphic(graphA, graphB):\n",
    "                    print(\"Triangle Sequences are equal: \", idxA, idxB)\n",
    "                    if nx.could_be_isomorphic(graphA, graphB):\n",
    "                        print(\"Clique Sequences are equal: \", idxA, idxB)\n",
    "                        # if nx.is_isomorphic(graphA, graphB):\n",
    "                        #     print(\"Is isomorphic: \", idxA, graphB)\n",
    "                        if idxA not in similar_graphs:\n",
    "                            similar_graphs[idxA] = []\n",
    "                        similar_graphs[idxA].append(idxB)\n",
    "                        skip_graphs.add(idxB)\n",
    "    return similar_graphs, skip_graphs"
   ]
  },
  {
   "cell_type": "code",
   "execution_count": null,
   "id": "78d0fac1-ab12-4e8c-9a05-73f6aa0abee4",
   "metadata": {},
   "outputs": [],
   "source": [
    "num_networks_per_type = 30\n",
    "for data_src in ds_to_files:\n",
    "    for data_file in ds_to_files[data_src]:\n",
    "        print(data_file)\n",
    "        data_file_name = os.path.basename(data_file)[:-4]\n",
    "        if not os.path.exists(f\"./outputs/{data_file_name}\"):\n",
    "            os.makedirs(f\"./outputs/{data_file_name}\")\n",
    "        df, num_nodes, num_edges = read_network_edges(data_file)\n",
    "        for net_size in [100, 200, 300, 500]:\n",
    "            net_list = generate_samples(df, num_nodes, num_networks_per_type, net_size)\n",
    "            similar_graphs, skip_graphs = check_isomorphism(net_list)\n",
    "            net_list = net_list.drop(skip_graphs).reset_index(drop=True).rename_axis(\"idx\")\n",
    "            # save info csv\n",
    "            net_list[[\"root\",\"cc_mean\",\"cc_std\"]].to_csv(f\"./outputs/{data_file_name}/info_{data_file_name}_n{net_size}.csv\")\n",
    "            # save histogram\n",
    "            net_list[\"cc_mean\"].hist()\n",
    "            plt.title(\"#nodes:{} #samples:{} , cc_mean ~ N({:.2f}, {:.2f})\".format(net_size, num_networks_per_type, net_list[\"cc_mean\"].mean(), net_list[\"cc_mean\"].std()))\n",
    "            plt.xlabel(f\"Mean Clustering Coefficient for samples from {data_file_name}\")\n",
    "            plt.ylabel(\"Count\")\n",
    "            plt.tight_layout()\n",
    "            plt.savefig(f\"./outputs/{data_file_name}/cchist_{data_file_name}_n{net_size}.png\")\n",
    "            plt.show()\n",
    "            # save each edges csv file\n",
    "            for idx in range(net_list.shape[0]):\n",
    "                nx.write_edgelist(net_list.iloc[idx][\"G\"], f\"./outputs/{data_file_name}/edges_{data_file_name}_n{net_size}_i{idx}.csv\", delimiter=\",\", data=False)"
   ]
  },
  {
   "cell_type": "code",
   "execution_count": null,
   "id": "34d77fa2-c8cd-42f6-a6aa-48c1fd9df08b",
   "metadata": {},
   "outputs": [],
   "source": []
  },
  {
   "cell_type": "code",
   "execution_count": null,
   "id": "2bbc4bdb-4eab-4bce-b875-54896d947bd7",
   "metadata": {},
   "outputs": [],
   "source": []
  },
  {
   "cell_type": "code",
   "execution_count": null,
   "id": "df5f14c4-0baf-485b-9a4c-a5a793c3600a",
   "metadata": {},
   "outputs": [],
   "source": []
  },
  {
   "cell_type": "code",
   "execution_count": null,
   "id": "ab5caf48-05f1-4b98-b1e7-ef3e56ae6ccb",
   "metadata": {},
   "outputs": [],
   "source": []
  },
  {
   "cell_type": "code",
   "execution_count": null,
   "id": "035bbe6d-3107-46f1-8a12-76c8a7d3f563",
   "metadata": {},
   "outputs": [],
   "source": []
  },
  {
   "cell_type": "code",
   "execution_count": null,
   "id": "79e29e4b-8e7e-4188-b6c1-1e7beb8abf46",
   "metadata": {},
   "outputs": [],
   "source": []
  },
  {
   "cell_type": "code",
   "execution_count": null,
   "id": "396dd2be-68f1-476d-8834-49dc124ae73f",
   "metadata": {},
   "outputs": [],
   "source": []
  },
  {
   "cell_type": "code",
   "execution_count": null,
   "id": "67d1ef32-1d8b-48c5-b067-6f3b2f12e2e2",
   "metadata": {},
   "outputs": [],
   "source": []
  }
 ],
 "metadata": {
  "kernelspec": {
   "display_name": "Python 3 (ipykernel)",
   "language": "python",
   "name": "python3"
  },
  "language_info": {
   "codemirror_mode": {
    "name": "ipython",
    "version": 3
   },
   "file_extension": ".py",
   "mimetype": "text/x-python",
   "name": "python",
   "nbconvert_exporter": "python",
   "pygments_lexer": "ipython3",
   "version": "3.8.16"
  }
 },
 "nbformat": 4,
 "nbformat_minor": 5
}
