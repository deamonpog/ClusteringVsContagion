{
 "cells": [
  {
   "cell_type": "code",
   "execution_count": null,
   "id": "e99dc33e-a926-4997-8a7d-ee61d6a11bfb",
   "metadata": {},
   "outputs": [],
   "source": [
    "import networkx as nx\n",
    "import numpy as np\n",
    "import pandas as pd\n",
    "import matplotlib.pyplot as plt"
   ]
  },
  {
   "cell_type": "code",
   "execution_count": null,
   "id": "84bd9c0a-8868-4f02-ae81-2a9151d4000a",
   "metadata": {},
   "outputs": [],
   "source": [
    "def generate_network(in_net_type, in_net_size, in_net_params):\n",
    "    if in_net_type == \"SW\":\n",
    "        G = nx.connected_watts_strogatz_graph(n=in_net_size, k=in_net_params[\"k\"], p=in_net_params[\"p\"])\n",
    "    elif in_net_type == \"R\":\n",
    "        G = nx.erdos_renyi_graph(n=in_net_size, p=in_net_params[\"p\"])\n",
    "    elif in_net_type == \"SF\":\n",
    "        G = nx.barabasi_albert_graph(n=in_net_size, m=in_net_params[\"m\"])\n",
    "    c = nx.clustering(G)\n",
    "    cc_dist = np.array([c[node] for node in c])\n",
    "    cc_mean = cc_dist.mean()\n",
    "    cc_std = cc_dist.std()\n",
    "    return cc_mean, cc_std"
   ]
  },
  {
   "cell_type": "code",
   "execution_count": null,
   "id": "b4e9c50a-9ae1-49e9-8483-d8349dd21201",
   "metadata": {},
   "outputs": [],
   "source": [
    "data = []\n",
    "for net_size in range(100, 1001, 100):\n",
    "    for pval in np.arange(0.05, 1.0, 0.05):\n",
    "        for replica in range(10):\n",
    "            cc_mean, cc_std = generate_network(\"R\", net_size, {\"p\": pval})\n",
    "            data.append([\"R\", net_size, pval, replica, cc_mean, cc_std])\n",
    "data = pd.DataFrame(data, columns=[\"NetType\", \"Size\", \"Rp\", \"replica\", \"cc_mean\", \"cc_std\"])\n",
    "data"
   ]
  },
  {
   "cell_type": "code",
   "execution_count": null,
   "id": "f4c75241-64ba-4f73-a26e-d4c7a4994b0e",
   "metadata": {},
   "outputs": [],
   "source": [
    "dataSW = []\n",
    "for net_size in range(100, 1001, 100):\n",
    "    for pval in np.arange(0.05, 1.0, 0.05):\n",
    "        for kval in [3,4,5,6]:\n",
    "            for replica in range(10):\n",
    "                cc_mean, cc_std = generate_network(\"SW\", net_size, {\"p\": pval, \"k\": kval})\n",
    "                dataSW.append([\"SW\", net_size, pval, kval, replica, cc_mean, cc_std])\n",
    "dataSW = pd.DataFrame(data, columns=[\"NetType\", \"Size\", \"SWp\", \"SWk\", \"replica\", \"cc_mean\", \"cc_std\"])\n",
    "dataSW"
   ]
  },
  {
   "cell_type": "code",
   "execution_count": null,
   "id": "ee94f93e-83fd-47c5-88ce-d777f7e7ade2",
   "metadata": {},
   "outputs": [],
   "source": [
    "dataSF = []\n",
    "for net_size in range(100, 1001, 100):\n",
    "    for mval in range(1,10):\n",
    "        for replica in range(10):\n",
    "            cc_mean, cc_std = generate_network(\"SF\", net_size, {\"m\": mval})\n",
    "            dataSF.append([\"SF\", net_size, mval, replica, cc_mean, cc_std])\n",
    "dataSF = pd.DataFrame(data, columns=[\"NetType\", \"Size\", \"SFm\", \"replica\", \"cc_mean\", \"cc_std\"])\n",
    "dataSF"
   ]
  }
 ],
 "metadata": {
  "kernelspec": {
   "display_name": "Python 3 (ipykernel)",
   "language": "python",
   "name": "python3"
  },
  "language_info": {
   "codemirror_mode": {
    "name": "ipython",
    "version": 3
   },
   "file_extension": ".py",
   "mimetype": "text/x-python",
   "name": "python",
   "nbconvert_exporter": "python",
   "pygments_lexer": "ipython3",
   "version": "3.8.16"
  }
 },
 "nbformat": 4,
 "nbformat_minor": 5
}
