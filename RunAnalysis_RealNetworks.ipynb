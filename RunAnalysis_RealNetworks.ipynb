{
 "cells": [
  {
   "cell_type": "code",
   "execution_count": null,
   "id": "9d155f5a-1c88-46fd-9b08-aa17b0b9e313",
   "metadata": {},
   "outputs": [],
   "source": [
    "import os.path\n",
    "import glob\n",
    "import multiprocessing\n",
    "\n",
    "import numpy as np\n",
    "import pandas as pd\n",
    "import networkx as nx"
   ]
  },
  {
   "cell_type": "code",
   "execution_count": null,
   "id": "baf89623-8deb-4083-b1f7-00fb4f018e08",
   "metadata": {},
   "outputs": [],
   "source": [
    "\"\"\" Named Constants used for addressing the indexes of model Node States \"\"\"\n",
    "NS_STATE = 0\n",
    "NS_NEXT_STATE = 1\n",
    "NS_WAS_ACTIVATED_PREV_STEP = 2\n",
    "NS_INIT_STATE = 3\n",
    "NS_INIT_WAS_ACTIVATED_PREV_STEP = 4\n",
    "\n",
    "# \"\"\" Reads the network from the given inNeighbors.json file \"\"\"\n",
    "# def read_network(in_network_file):\n",
    "#     node_in_neighbors = ReadNeighborsAsIntegers(in_network_file)\n",
    "#     name_parts = os.path.basename(in_network_file).split('_')\n",
    "#     #print(name_parts)\n",
    "#     network_index = int(name_parts[1])\n",
    "#     network_size = int(name_parts[2][1:])\n",
    "#     beta = float((name_parts[3][1:]).replace('o','.'))\n",
    "#     din = float((name_parts[4][3:]).replace('o','.'))\n",
    "#     dout = float((name_parts[5][4:]).replace('o','.'))\n",
    "#     net = {\"id\" : network_index,\n",
    "#            \"size\": network_size,\n",
    "#            \"beta\": beta,\n",
    "#            \"delta_in\": din,\n",
    "#            \"delta_out\": dout,\n",
    "#            \"in_neighbors\": node_in_neighbors,\n",
    "#            }\n",
    "#     return net\n",
    "\n",
    "\"\"\" Given a network data read from a file, creates and initializes a usable simulation instance for DOI experiments\n",
    "    Susceptible == False\n",
    "    Infected == True\n",
    "    Returns created simulation dictionary object\n",
    "\"\"\"\n",
    "def setup_simulation_instance(in_network, in_init_fract_infection):\n",
    "    network_size = in_network[\"size\"]\n",
    "    NodeState = np.zeros((5, network_size), dtype=bool)\n",
    "    init_infected_nodeidx_list = np.random.choice(network_size, round(in_init_fract_infection * network_size), replace=False)\n",
    "    NodeState[NS_INIT_STATE, init_infected_nodeidx_list] = True\n",
    "    NodeState[NS_INIT_WAS_ACTIVATED_PREV_STEP, init_infected_nodeidx_list] = True\n",
    "    #print(f\"Initial infected nodes: {len(init_infected_nodeidx_list)}\")\n",
    "    sim = {\"NodeState\": NodeState, \"InitInfects\":init_infected_nodeidx_list}\n",
    "    return sim\n",
    "    \n",
    "\"\"\" Copies initial states to the current states of nodes \"\"\"\n",
    "def initialize(in_network, inout_simulation):\n",
    "    NodeState = inout_simulation[\"NodeState\"]\n",
    "    NodeState[NS_STATE] = NodeState[NS_INIT_STATE]\n",
    "    NodeState[NS_NEXT_STATE] = NodeState[NS_INIT_STATE]\n",
    "    NodeState[NS_WAS_ACTIVATED_PREV_STEP] = NodeState[NS_INIT_WAS_ACTIVATED_PREV_STEP]\n",
    "    \n",
    "   \n",
    "\"\"\" Runs the simulation \"\"\"\n",
    "def run(inout_simulation, in_network, in_model, in_max_steps=10000):\n",
    "    \n",
    "    infection_at_step = []\n",
    "    \n",
    "    network_size = in_network[\"size\"]\n",
    "    NodeState = inout_simulation[\"NodeState\"]\n",
    "    \n",
    "    in_model.setup(in_network, inout_simulation)\n",
    "    \n",
    "    for step in (range(in_max_steps)):\n",
    "        \n",
    "        infection_at_this_step = 0\n",
    "\n",
    "        # Process F > G for all Susceptible nodes and mark for state change\n",
    "        for node_idx in range(network_size):\n",
    "            if not NodeState[NS_STATE, node_idx]:\n",
    "                # execute following for all Susceptible\n",
    "                F = in_model.F(node_idx, NodeState, in_network[\"in_neighbors\"], inout_simulation)\n",
    "                G = in_model.G()\n",
    "                if G <= F:\n",
    "                    NodeState[NS_NEXT_STATE, node_idx] = True\n",
    "        \n",
    "        # Reset excitement of all nodes back\n",
    "        NodeState[NS_WAS_ACTIVATED_PREV_STEP] = False\n",
    "        \n",
    "        for node_idx in range(network_size):\n",
    "            if not NodeState[NS_STATE, node_idx] and NodeState[NS_NEXT_STATE, node_idx]:\n",
    "                NodeState[NS_WAS_ACTIVATED_PREV_STEP, node_idx] = True\n",
    "                infection_at_this_step += 1\n",
    "        \n",
    "        # Copy the next state onto state\n",
    "        NodeState[NS_STATE] = NodeState[NS_NEXT_STATE]\n",
    "\n",
    "        infection_at_step.append( infection_at_this_step )\n",
    "        \n",
    "        # stop if no change for 1000 steps\n",
    "        if step > 1000 and step % 1000 == 1 and np.sum(infection_at_step[-1000:]) == 0:\n",
    "            #print(\"No change for 1000 steps\")\n",
    "            break\n",
    "\n",
    "    inout_simulation[\"InfectionAtStep\"] = infection_at_step\n",
    "    inout_simulation[\"StopAt\"] = step\n",
    "    return"
   ]
  },
  {
   "cell_type": "code",
   "execution_count": null,
   "id": "f13448e0-2740-4d9c-87d3-7489a7bac573",
   "metadata": {},
   "outputs": [],
   "source": [
    "class LATM:\n",
    "    def __init__(self, in_threshold):\n",
    "        self.threshold = in_threshold\n",
    "        \n",
    "    def setup(self, in_network, inout_simulation):\n",
    "        pass\n",
    "        \n",
    "    def F(self, in_node_idx, in_NodeState, in_inNeighbors, inout_simulation):\n",
    "        neighborhood = in_inNeighbors[in_node_idx] if in_node_idx in in_inNeighbors else []\n",
    "        infected_neighborhood = [neighbor_idx for neighbor_idx in neighborhood if in_NodeState[NS_STATE, neighbor_idx]]\n",
    "        return len(infected_neighborhood)\n",
    "\n",
    "    def G(self):\n",
    "        return self.threshold"
   ]
  },
  {
   "cell_type": "code",
   "execution_count": null,
   "id": "eebdfdac-8d3b-4d52-b726-6914f7bcd706",
   "metadata": {},
   "outputs": [],
   "source": [
    "class LFTM:\n",
    "    def __init__(self, in_threshold):\n",
    "        self.threshold = in_threshold\n",
    "        \n",
    "    def setup(self, in_network, inout_simulation):\n",
    "        pass\n",
    "        \n",
    "    def F(self, in_node_idx, in_NodeState, in_inNeighbors, inout_simulation):\n",
    "        neighborhood = in_inNeighbors[in_node_idx] if in_node_idx in in_inNeighbors else []\n",
    "        infected_neighborhood = [neighbor_idx for neighbor_idx in neighborhood if in_NodeState[NS_STATE, neighbor_idx]]\n",
    "        return len(infected_neighborhood) / len(neighborhood) if len(neighborhood) > 0 else 0\n",
    "\n",
    "    def G(self):\n",
    "        return self.threshold"
   ]
  },
  {
   "cell_type": "code",
   "execution_count": null,
   "id": "1bea1319-ec3b-4e13-9058-f04f9b250a61",
   "metadata": {},
   "outputs": [],
   "source": [
    "class ICM:\n",
    "    def __init__(self, in_imitation):\n",
    "        self.imitation = in_imitation\n",
    "        \n",
    "    def setup(self, in_network, inout_simulation):\n",
    "        pass\n",
    "        \n",
    "    def F(self, in_node_idx, in_NodeState, in_inNeighbors, inout_simulation):\n",
    "        neighborhood = in_inNeighbors[in_node_idx] if in_node_idx in in_inNeighbors else []\n",
    "        active_neighborhood = [neighbor_idx for neighbor_idx in neighborhood if in_NodeState[NS_WAS_ACTIVATED_PREV_STEP, neighbor_idx]]\n",
    "        return 1.0 - ((1.0 - self.imitation) ** len(active_neighborhood))\n",
    "\n",
    "    def G(self):\n",
    "        return np.random.rand()"
   ]
  },
  {
   "cell_type": "code",
   "execution_count": null,
   "id": "989a4312-2423-4857-9b45-32d39a65e526",
   "metadata": {},
   "outputs": [],
   "source": [
    "def run_dynamic_trial(in_network, in_model, in_initial_frac_infection):\n",
    "    # setup \n",
    "    sim = setup_simulation_instance(in_network, in_initial_frac_infection)\n",
    "\n",
    "    initialize(in_network, sim)\n",
    "    #print(sim['NodeState'])\n",
    "\n",
    "    run(sim, in_network, in_model)\n",
    "\n",
    "    #print(\"Stopped at : \" + str(sim[\"StopAt\"]))\n",
    "    #print(sim['NodeState'])\n",
    "    \n",
    "    final_infected_fraction = (sim['NodeState'][NS_STATE].sum() - len(sim[\"InitInfects\"])) / in_network['size']\n",
    "    net_percent_value = np.sum([v * (0.9 ** t) for t,v in enumerate(sim[\"InfectionAtStep\"])])\n",
    "    return net_percent_value, final_infected_fraction"
   ]
  },
  {
   "cell_type": "code",
   "execution_count": null,
   "id": "26ed8fc1-b5a7-4d61-a919-6ed12dfd0e84",
   "metadata": {},
   "outputs": [],
   "source": [
    "def run_model(in_network, in_model_name, in_model_param, in_initial_frac_infection):\n",
    "    np.random.seed() # <-- multiprocessing with different seeds\n",
    "    if \"LATM\" == in_model_name:\n",
    "        return run_dynamic_trial(in_network, LATM(in_model_param), in_initial_frac_infection)\n",
    "    if \"LFTM\" == in_model_name:\n",
    "        return run_dynamic_trial(in_network, LFTM(in_model_param), in_initial_frac_infection)\n",
    "    if \"ICM\" == in_model_name:\n",
    "        return run_dynamic_trial(in_network, ICM(in_model_param), in_initial_frac_infection)"
   ]
  },
  {
   "cell_type": "code",
   "execution_count": null,
   "id": "588041fa-fa6e-4042-ac1c-adc741248d82",
   "metadata": {},
   "outputs": [],
   "source": [
    "model_param_range = {\"ICM\": np.arange(0.05, 1.0, 0.05), \"LFTM\": np.arange(0.05, 1.0, 0.05), \"LATM\": np.arange(1, 10, 1)}\n",
    "model_param_range"
   ]
  },
  {
   "cell_type": "code",
   "execution_count": null,
   "id": "c6d8e20b-30ee-46e4-b6a7-489cb97fb5a3",
   "metadata": {},
   "outputs": [],
   "source": [
    "def get_sampled_network_groups():\n",
    "    sampled_network_groups = {}\n",
    "    \n",
    "    data_sources = glob.glob(\"./Data/*\")\n",
    "    ds_to_files = {os.path.basename(data_src): glob.glob(os.path.join(data_src, \"*edges*.csv\")) for data_src in data_sources}\n",
    "    for data_src in ds_to_files:\n",
    "        for source_data_file in ds_to_files[data_src]:\n",
    "            data_file_name = os.path.basename(source_data_file)[:-4]\n",
    "            sampled_network_groups[data_file_name] = {}\n",
    "            sampledfiles = glob.glob(f\"./outputs/{data_file_name}/edges_{data_file_name}_n*.csv\")\n",
    "            num_node_values = set((int(fn.split(\"_\")[-2][1:]) for fn in sampledfiles))\n",
    "            for num_nodes in num_node_values:\n",
    "                groupedfiles = glob.glob(f\"./outputs/{data_file_name}/edges_{data_file_name}_n{num_nodes}_*.csv\")\n",
    "                sampled_network_groups[data_file_name][num_nodes] = groupedfiles\n",
    "    \n",
    "    return sampled_network_groups"
   ]
  },
  {
   "cell_type": "code",
   "execution_count": null,
   "id": "95e94d64-c206-436b-835a-bd1f63f6c3b4",
   "metadata": {},
   "outputs": [],
   "source": [
    "sampled_network_directory = get_sampled_network_groups()"
   ]
  },
  {
   "cell_type": "code",
   "execution_count": null,
   "id": "d2102672-d637-4044-8849-e26a12f360fe",
   "metadata": {},
   "outputs": [],
   "source": [
    "def get_network(in_network_dataset, in_net_size, in_network_file_path):\n",
    "    G = nx.read_edgelist(in_network_file_path, delimiter=\",\", data=False)\n",
    "    c = nx.clustering(G)\n",
    "    cc_dist = np.array([c[node] for node in c])\n",
    "    cc_mean = cc_dist.mean()\n",
    "    cc_std = cc_dist.std()\n",
    "    net = {\"size\": in_net_size,\n",
    "           \"param_name\": \"n\",\n",
    "           \"param\": in_net_size,\n",
    "           \"type\": in_network_dataset,\n",
    "           \"in_neighbors\": nx.to_dict_of_lists(G),\n",
    "           \"cluscoefdist\": c,\n",
    "           \"clscoef_mean\": cc_mean, \n",
    "           \"clscoef_std\": cc_std }\n",
    "    return net"
   ]
  },
  {
   "cell_type": "code",
   "execution_count": null,
   "id": "88abf9ec-9825-4a37-960f-e16420c69c4b",
   "metadata": {},
   "outputs": [],
   "source": [
    "def data_for_network(in_network_dataset, in_net_size, in_net_file_path):\n",
    "    net = get_network(in_network_dataset, in_net_size, in_net_file_path)\n",
    "    data = []\n",
    "    print(f\"Starting.. {in_network_dataset} ({in_net_size}) {in_net_file_path}\")\n",
    "    for MODEL_TO_ANALYZE in [\"LATM\", \"LFTM\", \"ICM\"]:\n",
    "        for model_param in model_param_range[MODEL_TO_ANALYZE]:\n",
    "            for init_inf in np.arange(0.025, 0.375, 0.025):\n",
    "                npv, fif = run_model(net, MODEL_TO_ANALYZE, model_param, init_inf)\n",
    "                data.append([net[\"type\"], net[\"param\"], net[\"clscoef_mean\"], net[\"clscoef_std\"], MODEL_TO_ANALYZE, model_param, init_inf, npv, fif])\n",
    "    return pd.DataFrame(data, columns=[\"NetType\",\"NetParam\",\"CC_mean\", \"CC_std\",\"Model\",\"ModelParam\",\"InitInf\", \"NPV\", \"FinalInf\"])"
   ]
  },
  {
   "cell_type": "code",
   "execution_count": null,
   "id": "733b4eb9-5b2f-4a85-8506-ec91143619c6",
   "metadata": {
    "scrolled": true
   },
   "outputs": [],
   "source": [
    "net_params = []\n",
    "for net_data_set in sampled_network_directory:\n",
    "    print(net_data_set)\n",
    "    for net_size in sampled_network_directory[net_data_set]:\n",
    "        print(\"\\t\", net_data_set, net_size, len(sampled_network_directory[net_data_set][net_size]))\n",
    "        x = [[net_data_set, net_size, file_path] for file_path in sampled_network_directory[net_data_set][net_size]]\n",
    "        net_params += x\n",
    "        # print(x)\n"
   ]
  },
  {
   "cell_type": "code",
   "execution_count": null,
   "id": "a3288a1f-27ae-40c6-b96b-44b09f662f75",
   "metadata": {
    "scrolled": true
   },
   "outputs": [],
   "source": [
    "with multiprocessing.Pool(multiprocessing.cpu_count() - 1) as P:\n",
    "    results = P.starmap(data_for_network, net_params)\n",
    "    \n",
    "print(\"DONE\")"
   ]
  },
  {
   "cell_type": "code",
   "execution_count": null,
   "id": "c6cbbbcc-180f-4fae-a1a9-5a48ef901b70",
   "metadata": {},
   "outputs": [],
   "source": [
    "df = pd.concat(results, ignore_index=True)\n",
    "\n",
    "df.to_csv(\"./cc_outputs/RealData_CCDiffusion.csv\", index=False)"
   ]
  },
  {
   "cell_type": "code",
   "execution_count": null,
   "id": "753e5a10-caf7-4b3f-b5e0-d349e791aaae",
   "metadata": {},
   "outputs": [],
   "source": []
  }
 ],
 "metadata": {
  "kernelspec": {
   "display_name": "Python 3 (ipykernel)",
   "language": "python",
   "name": "python3"
  },
  "language_info": {
   "codemirror_mode": {
    "name": "ipython",
    "version": 3
   },
   "file_extension": ".py",
   "mimetype": "text/x-python",
   "name": "python",
   "nbconvert_exporter": "python",
   "pygments_lexer": "ipython3",
   "version": "3.8.16"
  }
 },
 "nbformat": 4,
 "nbformat_minor": 5
}
